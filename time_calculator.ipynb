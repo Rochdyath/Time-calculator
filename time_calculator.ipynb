{
 "cells": [
  {
   "cell_type": "code",
   "execution_count": 7,
   "metadata": {},
   "outputs": [],
   "source": [
    "def print_hour(h, m, moment):\n",
    "    print(12,end=\":\") if h == 0 else print(h,end=\":\")\n",
    "    print(0,m,sep=\"\",end=\" \") if len(str(m)) == 1 else print(m,sep=\"\",end=\" \")\n",
    "    print(moment, end=\"\")\n",
    "\n",
    "def print_day(day, today):\n",
    "    if today != None:\n",
    "        days = [\"monday\", \"tuesday\", \"wednesday\", \"thursday\", \"friday\", \"saturday\", \"sunday\"]\n",
    "        today = today.lower()\n",
    "        i = days.index(today)\n",
    "        i += day\n",
    "        i = i % 7\n",
    "        print(\" \", days[i].title(), sep = \"\", end=\"\")    \n",
    "    if (day == 1): print(\" (next day)\", end=\"\")\n",
    "    if (day > 1): print(\" (\", day, \" days later)\", sep=\"\", end=\"\")"
   ]
  },
  {
   "cell_type": "code",
   "execution_count": 8,
   "metadata": {},
   "outputs": [],
   "source": [
    "def add_time(t_now, t_add, today=None):\n",
    "    t_now = t_now.split()\n",
    "    moment = t_now[1]\n",
    "    day = 0\n",
    "    t_now = t_now[0].split(':')\n",
    "    t_add = t_add.split(':')\n",
    "    t_end = []\n",
    "    \n",
    "    for (t1,t2) in zip(t_now, t_add):\n",
    "        r = int(t1) + int(t2)\n",
    "        t_end.append(r)\n",
    "    \n",
    "    h,m = (t_end[1]//60, t_end[1]%60)\n",
    "    t_end[1] = m\n",
    "    t_end[0] += h\n",
    "\n",
    "    m,h = (t_end[0]//12, t_end[0]%12)\n",
    "    t_end[0] = h\n",
    "\n",
    "    for i in range(m):\n",
    "        if moment == \"AM\": moment = \"PM\"\n",
    "        else:\n",
    "            moment = \"AM\"\n",
    "            day += 1\n",
    "    \n",
    "    print_hour(t_end[0], t_end[1], moment)\n",
    "    print_day(day, today)\n",
    "    print()"
   ]
  },
  {
   "cell_type": "code",
   "execution_count": 9,
   "metadata": {},
   "outputs": [
    {
     "name": "stdout",
     "output_type": "stream",
     "text": [
      "6:10 PM\n",
      "7:42 AM (9 days later)\n",
      "12:03 AM Monday (2 days later)\n"
     ]
    }
   ],
   "source": [
    "add_time(\"3:00 PM\", \"3:10\")\n",
    "\n",
    "add_time(\"6:30 PM\", \"205:12\")\n",
    "\n",
    "add_time(\"11:43 PM\", \"24:20\", \"saturday\")"
   ]
  }
 ],
 "metadata": {
  "kernelspec": {
   "display_name": "base",
   "language": "python",
   "name": "python3"
  },
  "language_info": {
   "codemirror_mode": {
    "name": "ipython",
    "version": 3
   },
   "file_extension": ".py",
   "mimetype": "text/x-python",
   "name": "python",
   "nbconvert_exporter": "python",
   "pygments_lexer": "ipython3",
   "version": "3.11.5"
  }
 },
 "nbformat": 4,
 "nbformat_minor": 2
}
